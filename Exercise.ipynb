{
 "cells": [
  {
   "cell_type": "markdown",
   "metadata": {},
   "source": [
    "EXERCISE FROM BOOK"
   ]
  },
  {
   "cell_type": "markdown",
   "metadata": {},
   "source": [
    "Turning Problem into CODE"
   ]
  },
  {
   "cell_type": "code",
   "execution_count": null,
   "metadata": {},
   "outputs": [],
   "source": [
    "bill = int(input(Enter a number in percentage))\n",
    "\n",
    "if bill > 0% :\n",
    "    bill * 100\n",
    "    print (\"you enter the right number\")\n",
    "else :\n",
    "    print(\"enter the valid number\")\n"
   ]
  },
  {
   "cell_type": "markdown",
   "metadata": {},
   "source": [
    "Exercise 1"
   ]
  },
  {
   "cell_type": "code",
   "execution_count": null,
   "metadata": {},
   "outputs": [],
   "source": [
    "def getname(name):\n",
    "    print(\"Hello, {name}, nice to meet you.\")\n",
    "\n",
    "getname(input(\"What is your name?\"))"
   ]
  },
  {
   "cell_type": "markdown",
   "metadata": {},
   "source": [
    "Exercise 2"
   ]
  },
  {
   "cell_type": "code",
   "execution_count": 1,
   "metadata": {},
   "outputs": [],
   "source": [
    "names = input(\"What is the input string? \")\n",
    "names = \"bob\"\n",
    "print(\"{names} has {len(names)} character\")"
   ]
  },
  {
   "cell_type": "markdown",
   "metadata": {},
   "source": [
    "Exercise 3"
   ]
  },
  {
   "cell_type": "code",
   "execution_count": 1,
   "metadata": {},
   "outputs": [
    {
     "name": "stdout",
     "output_type": "stream",
     "text": [
      "What is the quote? these are not the droids you looking for.\n",
      "Who said it? Obi-Wan Kenobi\n",
      "Obi-Wan Kenobi said, \"These aren't the droids you looking for.\n"
     ]
    }
   ],
   "source": [
    "print(\"What is the quote? these are not the droids you looking for.\" \n",
    "\"\\nWho said it? Obi-Wan Kenobi\"\n",
    "\"\\nObi-Wan Kenobi said, \\\"These aren\\'t the droids you looking for.\")"
   ]
  },
  {
   "cell_type": "markdown",
   "metadata": {},
   "source": [
    "Exercise 4"
   ]
  },
  {
   "cell_type": "code",
   "execution_count": null,
   "metadata": {},
   "outputs": [],
   "source": [
    "noun = input(\"enter a noun :\")\n",
    "verb = input(\"enter a verb :\")\n",
    "adjective = input(\"enter a adjective:\")\n",
    "adverb = input(\"enter a adverb : \")\n",
    "print(\"Do you {verb} your {adjective} {noun} {adverb}? Thats Hilarious.\")"
   ]
  },
  {
   "cell_type": "markdown",
   "metadata": {},
   "source": [
    "Exercise 5"
   ]
  },
  {
   "cell_type": "code",
   "execution_count": null,
   "metadata": {},
   "outputs": [],
   "source": [
    "number1 = input(\"What is your first number :\")\n",
    "number2 = input(\"What is your second number :\")\n",
    "addition = int(number1) + int(number2)\n",
    "subtraction = int(number1) - int(number2)\n",
    "multiply = int(number1) * int(number2)\n",
    "division = int(number1) / int(number2)\n",
    "print(\"{number1} + {number2} = {addition} \")\n",
    "print(\"{number1} - {number2} = {subtraction} \")\n",
    "print(\"{number1} * {number2} = {multiply} \")\n",
    "print(\"{number1} / {number2} = {division} \")"
   ]
  },
  {
   "cell_type": "markdown",
   "metadata": {},
   "source": [
    "Exercise 6"
   ]
  },
  {
   "cell_type": "code",
   "execution_count": null,
   "metadata": {},
   "outputs": [],
   "source": [
    "from datetime import date\n",
    "\n",
    "current_year = date.today().year\n",
    "\n",
    "age = input(\"What is your current age: \")\n",
    "retire = input(\"At what age you would like to retire: \")\n",
    "retire_age = int(retire) - int(age)\n",
    "retire_year = int(current_year) + int(retire_age)\n",
    "print(\"You have {retire_age} years left until you can retire\")\n",
    "print(\"it\\'s {current_year}, so you can retire at {retire_year}\")\n"
   ]
  },
  {
   "cell_type": "markdown",
   "metadata": {},
   "source": [
    "Exercise 7"
   ]
  },
  {
   "cell_type": "code",
   "execution_count": 1,
   "metadata": {},
   "outputs": [],
   "source": [
    "length = input(\"What is the length of room in feet:\")\n",
    "width = input(\"What is the width of your room in feet:\")\n",
    "print(\"you entered {length} feet for length and {width} feet for width\")\n",
    "area_feet = int(length)*int(width)\n",
    "area_meter = area_feet*0.09290304\n",
    "print(\"The area is {area_feet} feet or {area_meter} meters\")"
   ]
  },
  {
   "cell_type": "markdown",
   "metadata": {},
   "source": [
    "Exercise 8"
   ]
  },
  {
   "cell_type": "code",
   "execution_count": null,
   "metadata": {},
   "outputs": [],
   "source": [
    "pizzas = input(\"How many pizzas?\")\n",
    "people = input(\"How many people?\")\n",
    "\n",
    "pizza_pieces = 8*int(pizzas)\n",
    "people_pizza = int(pizza_pieces)/int(people)\n",
    "sisa_pizza = int(pizza_pieces)%int(people)\n",
    "\n",
    "print(\"{pizzas} pizzas with {people} people\")\n",
    "print(\"Each people gets {people_pizza} piece of pizza \")\n",
    "print(\"There is {sisa_pizza} piece of pizza left.\")\n"
   ]
  },
  {
   "cell_type": "markdown",
   "metadata": {},
   "source": [
    "Exercise 9"
   ]
  },
  {
   "cell_type": "code",
   "execution_count": null,
   "metadata": {},
   "outputs": [],
   "source": [
    "import math as mt\n",
    "\n",
    "paint_vast = int(input(\"How large a wall should be painted?\"))\n",
    "paint = float(paint_vast/350)\n",
    "many_paint = int(mt.ceil(paint))\n",
    "\n",
    "print(\"you need {many_paint} to cover the wall\")"
   ]
  },
  {
   "cell_type": "markdown",
   "metadata": {},
   "source": [
    "Exercise 10"
   ]
  },
  {
   "cell_type": "code",
   "execution_count": null,
   "metadata": {},
   "outputs": [],
   "source": [
    "checkout = int(input(\"How many checkout do you make: \"))\n",
    "\n",
    "for i in range(1, checkout+1):\n",
    "    print(f\"-CHECKOUT {i}-\")\n",
    "    price = int(input(\"how much the price for item [USD] {i}\"))\n",
    "    quantity = int(input(\"How many item do you buy {i}:\"))\n",
    "\n",
    "    checkmoney = price*quantity\n",
    "    checkoutmoney += checkmoney\n",
    "\n",
    "print(\"Subtotal : USD {checkoutmoney}\")\n",
    "Tax = float(checkoutmoney*0.055)\n",
    "Total = float(checkoutmoney + Tax)\n",
    "print(\"Tax : USD {Tax}\")\n",
    "print(\"Total : USD {Total}\")"
   ]
  },
  {
   "cell_type": "markdown",
   "metadata": {},
   "source": [
    "Exercise 11"
   ]
  },
  {
   "cell_type": "code",
   "execution_count": null,
   "metadata": {},
   "outputs": [],
   "source": [
    "amount_from = int(input(\"How many euros are you exchanging : \"))\n",
    "rate_to = 100\n",
    "rate_from = 137.51\n",
    "amount_to =  float(amount_from*rate_from/rate_to)\n",
    "print(\"the exchange rate : 137.51\")\n",
    "round(print(\"{amount_from} euros at an exchange rate of {rate_from} is USD {amount_to}}\"),2)"
   ]
  },
  {
   "cell_type": "markdown",
   "metadata": {},
   "source": [
    "Exercise 12"
   ]
  },
  {
   "cell_type": "code",
   "execution_count": null,
   "metadata": {},
   "outputs": [],
   "source": [
    "principal = int(input(\"Enter the principal :\"))\n",
    "rate = float(print(\"Enter the interest rate :\"))\n",
    "years = int(print(\"Enter the number of years : \"))\n",
    "\n",
    "interest_rate = float(rate*years/100)\n",
    "principal_rate = float(1 + interest_rate)\n",
    "principal_output = round(float(principal*principal_rate), 2)\n",
    "\n",
    "print(\"After {years} years at {rate}%, the investment will worth USD {principal_output} \")"
   ]
  },
  {
   "cell_type": "markdown",
   "metadata": {},
   "source": [
    "Exercise 13"
   ]
  },
  {
   "cell_type": "code",
   "execution_count": null,
   "metadata": {},
   "outputs": [],
   "source": [
    "principal = int(input(\"Enter the principal :\"))\n",
    "rate = float(print(\"Enter the interest rate :\"))\n",
    "years = int(print(\"Enter the number of years : \"))\n",
    "compound = int(print(\"What is the number of times the interest is compounded per year?\"))\n",
    "\n",
    "interest_rate = round(float(rate/100),2)\n",
    "compound_rate = float(interest_rate/compound)\n",
    "principal_rate = float(1 + compound_rate)\n",
    "comp_rate = int(principal_rate**compound_rate)\n",
    "principal_output = round((principal*comp_rate), 2)"
   ]
  },
  {
   "cell_type": "markdown",
   "metadata": {},
   "source": [
    "Exercise 14"
   ]
  },
  {
   "cell_type": "code",
   "execution_count": null,
   "metadata": {},
   "outputs": [],
   "source": [
    "amount = int(input(\"What is the order amount : \"))\n",
    "states = input(\"What is the states you in : \")\n",
    "\n",
    "if states == \"WI\" :\n",
    "    Tax = float(amount*0.55)\n",
    "    price = float(amount + Tax)\n",
    "    print(\"The price for your order  : {price}\")\n",
    "else:\n",
    "    print(\"The price for your order : {amount} \")"
   ]
  },
  {
   "cell_type": "markdown",
   "metadata": {},
   "source": [
    "Exercise 15"
   ]
  },
  {
   "cell_type": "code",
   "execution_count": null,
   "metadata": {},
   "outputs": [],
   "source": [
    "password = input(\"What is your password : \")\n",
    "if password == \"abc123\":\n",
    "    print(\"Welcome back\")\n",
    "else : \n",
    "    print(\"I don\\'t know you\")"
   ]
  },
  {
   "cell_type": "markdown",
   "metadata": {},
   "source": [
    "Exercise 16"
   ]
  },
  {
   "cell_type": "code",
   "execution_count": null,
   "metadata": {},
   "outputs": [],
   "source": [
    "age = int(input(\"What is your age\"))\n",
    "if age >= 16 :\n",
    "    print(\"You legal for driving\")\n",
    "else :\n",
    "    print(\"you don\\'t have a license\")"
   ]
  },
  {
   "cell_type": "markdown",
   "metadata": {},
   "source": [
    "Exercise 17"
   ]
  },
  {
   "cell_type": "code",
   "execution_count": null,
   "metadata": {},
   "outputs": [],
   "source": [
    "gender = input(\"What is your gender : \")\n",
    "alcohol = int(input(\"How many litres of alcohol you drink : \"))\n",
    "weight = int(input(\"How yours weigth : \"))\n",
    "hours = int(input(\"How many hours since you drunk : \"))\n",
    "if gender == \"male\" : \n",
    "    BAC1 = round(float(alcohol*5.14/weight*0.73),2)\n",
    "    BAC2 = round(float(BAC1 - 0.15*hours),2)\n",
    "    if BAC2 > 0.08 :\n",
    "        print(\"You legal to drive\")\n",
    "    else :\n",
    "        print(\"you are not legal for drive\")\n",
    "if gender == \"female\" :\n",
    "    BAC1 = round(float(alcohol*5.14/weight*0.66),2)\n",
    "    BAC2 = round(float(BAC1 - 0.15*hours),2) \n",
    "    if BAC2 > 0.08 :\n",
    "        print(\"You legal to drive\")\n",
    "    else :\n",
    "        print(\"you are not legal for drive\")"
   ]
  },
  {
   "cell_type": "markdown",
   "metadata": {},
   "source": [
    "Exercise 18"
   ]
  },
  {
   "cell_type": "code",
   "execution_count": null,
   "metadata": {},
   "outputs": [],
   "source": [
    "from timeit import repeat\n",
    "\n",
    "\n",
    "print(\"press C to convert from Fahrenheit to Celcius\")\n",
    "print(\"press F to convert from Celcius to Fahrenheit\")\n",
    "choice = input(\"Your Choice : \")\n",
    "\n",
    "if choice == \"C\" :\n",
    "    FahrenheitC = int(input(\"Please enter your temperature in Fahrenheit :\"))\n",
    "    input1 = int(FahrenheitC - 32)\n",
    "    Celcius = int(input1*5/9)\n",
    "\n",
    "    print(\"Your temperature in Celcius : {Celcius}\")\n",
    "elif choice == \"F\" :\n",
    "    CelciusF= int(input(\"Please enter your temperature in Fahrenheit :\"))\n",
    "    input1 = int(CelciusF - 32)\n",
    "    Fahrenheit = int(input1*5/9)\n",
    "\n",
    "    print(\"Your temperature in Fahrenheit : {Fahrenheit}\")"
   ]
  },
  {
   "cell_type": "markdown",
   "metadata": {},
   "source": [
    "Exercise 19"
   ]
  },
  {
   "cell_type": "code",
   "execution_count": null,
   "metadata": {},
   "outputs": [],
   "source": [
    "weight = int(input(\"Enter your weigth :\"))\n",
    "height = int(input(\"Enter your height :\"))\n",
    "BMI = int((weight/height*height)*703)\n",
    "\n",
    "if BMI <= 25 and BMI >= 18.5 :\n",
    "    print(\"You have a ideal Body Mass Index\")\n",
    "elif BMI >= 25 :\n",
    "    print(\"You are overweight, you need see doctor\")\n",
    "else : \n",
    "    print(\"You are underweigth, you need to see doctor\")"
   ]
  },
  {
   "cell_type": "markdown",
   "metadata": {},
   "source": [
    "Exercise 20"
   ]
  },
  {
   "cell_type": "code",
   "execution_count": null,
   "metadata": {},
   "outputs": [],
   "source": [
    "order = int(input(\"What is the order amount :\"))\n",
    "state = input(\"What state do you live in :\")\n",
    "\n",
    "if state == \"Wisconsin\":\n",
    "    county = input(\"What county do you live in :\")\n",
    "    if county == \"Eau Claire Resident\" :\n",
    "        Tax = order*0.005\n",
    "    else :   \n",
    "        Tax = order*0.05\n",
    "elif state == \"Nevada\" :\n",
    "    Tax = order*0.08 \n",
    "elif state == \"Texas\" :\n",
    "    Tax = order*0.1\n",
    "else :\n",
    "    Tax = 0\n",
    "\n",
    "price = float(order + Tax)\n",
    "print(\"The total is USD{price}\")"
   ]
  },
  {
   "cell_type": "markdown",
   "metadata": {},
   "source": [
    "Exercise 21"
   ]
  },
  {
   "cell_type": "code",
   "execution_count": null,
   "metadata": {},
   "outputs": [],
   "source": [
    "\n",
    "number = input(\"Please enter the number of month :\")\n",
    "\n",
    "if number == 1: \n",
    "    months = \"January\"\n",
    "elif number == 2:\n",
    "    months = \"February\"\n",
    "elif number == 3 :\n",
    "    months = \"March\"\n",
    "elif number == 4 :\n",
    "    months = \"April\"\n",
    "elif number == 5 :\n",
    "    months = \"May\"\n",
    "elif number == 6 :\n",
    "    months = \"June\"\n",
    "elif number == 7 :\n",
    "    months = \"July\"\n",
    "elif number == 8 :\n",
    "    months = \"August\"\n",
    "elif number == 9 :\n",
    "    months = \"September\" \n",
    "elif number == 10 :\n",
    "    months = \"October\"\n",
    "elif number == 11 :\n",
    "    months = \"November\"\n",
    "elif number == 12 :\n",
    "    months = \"December\"\n",
    "else :\n",
    "    break\n",
    "\n",
    "print(\"The name of the month is {months}\")"
   ]
  },
  {
   "cell_type": "markdown",
   "metadata": {},
   "source": [
    "Exercise 22"
   ]
  },
  {
   "cell_type": "code",
   "execution_count": null,
   "metadata": {},
   "outputs": [],
   "source": [
    "number1 = int(input(\"What is the first number :\"))\n",
    "number2 = int(input(\"What is the second number :\"))\n",
    "number3 = int(input(\"What is the third number : \"))\n",
    "\n",
    "if number1 > number2 and number1 > number3 :\n",
    "    print(\"The largest number is {number1}\")\n",
    "elif number2 > number1 and number2 > number3 :\n",
    "    print(\"The largest number is {number2}\")\n",
    "elif number3 > number1 and number3 > number2 :\n",
    "    print(\"The largest number is {number3}\")"
   ]
  },
  {
   "cell_type": "markdown",
   "metadata": {},
   "source": [
    "Exercise 23"
   ]
  },
  {
   "cell_type": "code",
   "execution_count": null,
   "metadata": {},
   "outputs": [],
   "source": [
    "silent = input(\"Is the car silent when you turn on the car?\")\n",
    "if silent == \"yes\":\n",
    "    battery = input(\"Are the battery terminal corroded?\")\n",
    "    if battery == \"yes\":\n",
    "        print(\"Clean the terminal and try starting again\")\n",
    "    elif battery == \"no\" :\n",
    "        print(\"Replaces cables and try again\") \n",
    "elif silent == \"no\":\n",
    "    click = input(\"Does the car make clicking noise\")\n",
    "    if click == \"yes\":\n",
    "        print(\"replace the battery\")\n",
    "    elif click == \"no\":\n",
    "        crank = print(\"Does the car crank up but fail to start\")\n",
    "        if crank == \"yes\" :\n",
    "            print(\"Check spark plug connections\")\n",
    "        elif crank == \"no\" :\n",
    "            engine = input(\"Does the engine start and then die \")\n",
    "            if engine == \"yes\" :\n",
    "                fuel = input(\"Does your car have fuel injection\")\n",
    "                if fuel == \"yes\" :\n",
    "                    print(\"Get it in for service\")\n",
    "                elif fuel == \"no\" :\n",
    "                    print(\"Check to ensure the choke is opening and closing\")\n"
   ]
  },
  {
   "cell_type": "markdown",
   "metadata": {},
   "source": [
    "Exercise 24"
   ]
  },
  {
   "cell_type": "code",
   "execution_count": null,
   "metadata": {},
   "outputs": [],
   "source": [
    "word1 = input(\"What is the first word :\")\n",
    "word2 = input(\"What is the second word :\")\n",
    "\n",
    "def Anagram(word1, word2):\n",
    "    check1 = list(word1)\n",
    "    check2 = list(word2)\n",
    "\n",
    "    sort1 = sorted(check1)\n",
    "    sort2 = sorted(check2)\n",
    "\n",
    "    return sort1,sort2\n",
    "\n",
    "if sort1 == sort2 :\n",
    "    print(\"{word1} and {word2} is Anagram\")\n",
    "else :\n",
    "    print(\"{word1} and {word2} isn\\'t Anagram\")"
   ]
  },
  {
   "cell_type": "markdown",
   "metadata": {},
   "source": [
    "Exercise 25"
   ]
  },
  {
   "cell_type": "code",
   "execution_count": 1,
   "metadata": {},
   "outputs": [
    {
     "ename": "SyntaxError",
     "evalue": "invalid syntax (1039649847.py, line 7)",
     "output_type": "error",
     "traceback": [
      "\u001b[1;36m  Input \u001b[1;32mIn [1]\u001b[1;36m\u001b[0m\n\u001b[1;33m    def check()\u001b[0m\n\u001b[1;37m               ^\u001b[0m\n\u001b[1;31mSyntaxError\u001b[0m\u001b[1;31m:\u001b[0m invalid syntax\n"
     ]
    }
   ],
   "source": [
    "import numpy as np\n",
    "\n",
    "password = input(\"enter the password\")\n",
    "number = [1,2,3,4,5,6,7,8,9,0]\n",
    "char = [\"a\",\"b\",\"c\",\"d\",\"e\",\"f\",\"g\",\"h\",\"i\",\"j\",\"k\",\"l\",\"m\",\"n\",\"o\",\"p\",\"q\",\"r\",\"s\",\"t\",\"u\",\"v\",\"w\",\"x\",\"y\",\"z\"]\n",
    "\n",
    "def check(password):\n",
    "    check1 = list(password)\n",
    "    sort1 = sorted(check1)\n",
    "\n",
    "    return sort1\n",
    "\n",
    "if sort1 == number:\n",
    "    print(\"This is the weak password\")\n",
    "elif sort1 == char :\n",
    "    print(\"This is the weak password\")\n",
    "elif sort1 == char and sort1 == number :\n",
    "    print(\"This is the strong password\")"
   ]
  },
  {
   "cell_type": "markdown",
   "metadata": {},
   "source": [
    "Exercise 26"
   ]
  },
  {
   "cell_type": "code",
   "execution_count": null,
   "metadata": {},
   "outputs": [],
   "source": []
  },
  {
   "cell_type": "markdown",
   "metadata": {},
   "source": [
    "Exercise 27"
   ]
  },
  {
   "cell_type": "code",
   "execution_count": null,
   "metadata": {},
   "outputs": [],
   "source": []
  },
  {
   "cell_type": "markdown",
   "metadata": {},
   "source": [
    "Exercise 28"
   ]
  },
  {
   "cell_type": "code",
   "execution_count": null,
   "metadata": {},
   "outputs": [],
   "source": []
  },
  {
   "cell_type": "markdown",
   "metadata": {},
   "source": [
    "Exercise 29"
   ]
  },
  {
   "cell_type": "code",
   "execution_count": null,
   "metadata": {},
   "outputs": [],
   "source": []
  },
  {
   "cell_type": "markdown",
   "metadata": {},
   "source": [
    "Exercise 30"
   ]
  },
  {
   "cell_type": "code",
   "execution_count": null,
   "metadata": {},
   "outputs": [],
   "source": []
  },
  {
   "cell_type": "markdown",
   "metadata": {},
   "source": [
    "Exercise 31"
   ]
  },
  {
   "cell_type": "code",
   "execution_count": null,
   "metadata": {},
   "outputs": [],
   "source": []
  },
  {
   "cell_type": "markdown",
   "metadata": {},
   "source": [
    "Exercise 32"
   ]
  },
  {
   "cell_type": "code",
   "execution_count": null,
   "metadata": {},
   "outputs": [],
   "source": []
  },
  {
   "cell_type": "markdown",
   "metadata": {},
   "source": [
    "Exercise 33"
   ]
  },
  {
   "cell_type": "code",
   "execution_count": null,
   "metadata": {},
   "outputs": [],
   "source": []
  },
  {
   "cell_type": "markdown",
   "metadata": {},
   "source": [
    "Exercise 34"
   ]
  },
  {
   "cell_type": "code",
   "execution_count": null,
   "metadata": {},
   "outputs": [],
   "source": []
  },
  {
   "cell_type": "markdown",
   "metadata": {},
   "source": [
    "Exercise 35"
   ]
  },
  {
   "cell_type": "code",
   "execution_count": null,
   "metadata": {},
   "outputs": [],
   "source": []
  },
  {
   "cell_type": "markdown",
   "metadata": {},
   "source": [
    "Exercise 36"
   ]
  },
  {
   "cell_type": "code",
   "execution_count": null,
   "metadata": {},
   "outputs": [],
   "source": []
  },
  {
   "cell_type": "markdown",
   "metadata": {},
   "source": [
    "Exercise 37"
   ]
  },
  {
   "cell_type": "code",
   "execution_count": null,
   "metadata": {},
   "outputs": [],
   "source": []
  },
  {
   "cell_type": "markdown",
   "metadata": {},
   "source": [
    "Exercise 38"
   ]
  },
  {
   "cell_type": "code",
   "execution_count": null,
   "metadata": {},
   "outputs": [],
   "source": []
  },
  {
   "cell_type": "markdown",
   "metadata": {},
   "source": [
    "Exercise 39"
   ]
  },
  {
   "cell_type": "code",
   "execution_count": null,
   "metadata": {},
   "outputs": [],
   "source": []
  },
  {
   "cell_type": "markdown",
   "metadata": {},
   "source": [
    "Exercise 40"
   ]
  },
  {
   "cell_type": "code",
   "execution_count": null,
   "metadata": {},
   "outputs": [],
   "source": []
  },
  {
   "cell_type": "markdown",
   "metadata": {},
   "source": [
    "Exercise 41"
   ]
  },
  {
   "cell_type": "code",
   "execution_count": null,
   "metadata": {},
   "outputs": [],
   "source": []
  },
  {
   "cell_type": "markdown",
   "metadata": {},
   "source": [
    "Exercise 42"
   ]
  },
  {
   "cell_type": "code",
   "execution_count": null,
   "metadata": {},
   "outputs": [],
   "source": []
  },
  {
   "cell_type": "markdown",
   "metadata": {},
   "source": [
    "Exercise 43"
   ]
  },
  {
   "cell_type": "code",
   "execution_count": null,
   "metadata": {},
   "outputs": [],
   "source": []
  },
  {
   "cell_type": "markdown",
   "metadata": {},
   "source": [
    "Exercise 44"
   ]
  },
  {
   "cell_type": "code",
   "execution_count": null,
   "metadata": {},
   "outputs": [],
   "source": []
  },
  {
   "cell_type": "markdown",
   "metadata": {},
   "source": [
    "Exercise 45"
   ]
  },
  {
   "cell_type": "code",
   "execution_count": null,
   "metadata": {},
   "outputs": [],
   "source": []
  },
  {
   "cell_type": "markdown",
   "metadata": {},
   "source": [
    "Exercise 46"
   ]
  },
  {
   "cell_type": "code",
   "execution_count": null,
   "metadata": {},
   "outputs": [],
   "source": []
  },
  {
   "cell_type": "markdown",
   "metadata": {},
   "source": [
    "Exercise 47"
   ]
  },
  {
   "cell_type": "code",
   "execution_count": null,
   "metadata": {},
   "outputs": [],
   "source": []
  },
  {
   "cell_type": "markdown",
   "metadata": {},
   "source": [
    "Exercise 48"
   ]
  },
  {
   "cell_type": "code",
   "execution_count": null,
   "metadata": {},
   "outputs": [],
   "source": []
  },
  {
   "cell_type": "markdown",
   "metadata": {},
   "source": [
    "Exercise 49"
   ]
  },
  {
   "cell_type": "code",
   "execution_count": null,
   "metadata": {},
   "outputs": [],
   "source": []
  },
  {
   "cell_type": "markdown",
   "metadata": {},
   "source": [
    "Exercise 50"
   ]
  },
  {
   "cell_type": "code",
   "execution_count": null,
   "metadata": {},
   "outputs": [],
   "source": []
  },
  {
   "cell_type": "markdown",
   "metadata": {},
   "source": [
    "Exercise 51"
   ]
  },
  {
   "cell_type": "code",
   "execution_count": null,
   "metadata": {},
   "outputs": [],
   "source": []
  },
  {
   "cell_type": "markdown",
   "metadata": {},
   "source": [
    "Exercise 52"
   ]
  },
  {
   "cell_type": "code",
   "execution_count": null,
   "metadata": {},
   "outputs": [],
   "source": []
  },
  {
   "cell_type": "markdown",
   "metadata": {},
   "source": [
    "Exercise 53"
   ]
  },
  {
   "cell_type": "code",
   "execution_count": null,
   "metadata": {},
   "outputs": [],
   "source": []
  },
  {
   "cell_type": "markdown",
   "metadata": {},
   "source": [
    "Exercise 54"
   ]
  },
  {
   "cell_type": "code",
   "execution_count": null,
   "metadata": {},
   "outputs": [],
   "source": []
  },
  {
   "cell_type": "markdown",
   "metadata": {},
   "source": [
    "Exercise 55"
   ]
  },
  {
   "cell_type": "code",
   "execution_count": null,
   "metadata": {},
   "outputs": [],
   "source": []
  },
  {
   "cell_type": "markdown",
   "metadata": {},
   "source": [
    "Exercise 56"
   ]
  },
  {
   "cell_type": "code",
   "execution_count": null,
   "metadata": {},
   "outputs": [],
   "source": []
  },
  {
   "cell_type": "markdown",
   "metadata": {},
   "source": [
    "Exercise 57"
   ]
  },
  {
   "cell_type": "code",
   "execution_count": null,
   "metadata": {},
   "outputs": [],
   "source": []
  }
 ],
 "metadata": {
  "kernelspec": {
   "display_name": "Python 3.9.12 ('base')",
   "language": "python",
   "name": "python3"
  },
  "language_info": {
   "codemirror_mode": {
    "name": "ipython",
    "version": 3
   },
   "file_extension": ".py",
   "mimetype": "text/x-python",
   "name": "python",
   "nbconvert_exporter": "python",
   "pygments_lexer": "ipython3",
   "version": "3.9.12"
  },
  "orig_nbformat": 4,
  "vscode": {
   "interpreter": {
    "hash": "cb1a2b34e757fb3cb986a292cfc0d3a5fdd8ce9b94411c49c99fe027a72dc374"
   }
  }
 },
 "nbformat": 4,
 "nbformat_minor": 2
}
